{
 "cells": [
  {
   "cell_type": "markdown",
   "id": "fee6fb9e-25c6-4ce9-83f1-fecf0289954d",
   "metadata": {},
   "source": [
    "## Setup"
   ]
  },
  {
   "cell_type": "code",
   "execution_count": 1,
   "id": "96829b92-c4cf-4c5b-ac3c-39be50c150ed",
   "metadata": {},
   "outputs": [],
   "source": [
    "import sys, time\n",
    "sys.path.insert(0, \"../src/\")\n",
    "from warnings import filterwarnings\n",
    "filterwarnings(\"ignore\")"
   ]
  },
  {
   "cell_type": "code",
   "execution_count": 2,
   "id": "6f90d138-1bd4-4b07-8555-9d9e18fd480b",
   "metadata": {},
   "outputs": [],
   "source": [
    "from matplotlib import pyplot as plt\n",
    "import torch\n",
    "from chexnet_medical_ai.image_preprocessing import ImageTransForm, ImageDataLoader\n",
    "from chexnet_medical_ai import model"
   ]
  },
  {
   "cell_type": "markdown",
   "id": "b9e472c1-a225-45a3-abb9-37afb43968d6",
   "metadata": {},
   "source": [
    "## Train and Test Loaders "
   ]
  },
  {
   "cell_type": "code",
   "execution_count": 3,
   "id": "e50eb851-b1f4-4d2b-bd34-cd25b4605edf",
   "metadata": {},
   "outputs": [],
   "source": [
    "train_path = \"/mnt/d/archive/train/\"\n",
    "test_path = \"/mnt/d/archive/test/\""
   ]
  },
  {
   "cell_type": "code",
   "execution_count": 4,
   "id": "77cd86c8-2841-4854-ba58-284a857f7f1c",
   "metadata": {},
   "outputs": [],
   "source": [
    "train_transform = ImageTransForm().train_image_transforms()\n",
    "test_transform = ImageTransForm().test_image_transforms()"
   ]
  },
  {
   "cell_type": "code",
   "execution_count": 5,
   "id": "10c9374f-b9e6-42e1-ad7a-56ff97e983fd",
   "metadata": {},
   "outputs": [],
   "source": [
    "train_data = ImageDataLoader(train_path, test_path).train_data(train_transform)\n",
    "test_data = ImageDataLoader(train_path, test_path).test_data(test_transform)"
   ]
  },
  {
   "cell_type": "code",
   "execution_count": 6,
   "id": "79585f94-30a8-4ca6-850b-87c1003e06f3",
   "metadata": {},
   "outputs": [
    {
     "data": {
      "text/plain": [
       "(['0', '1'], ['0', '1'])"
      ]
     },
     "execution_count": 6,
     "metadata": {},
     "output_type": "execute_result"
    }
   ],
   "source": [
    "train_data.classes, test_data.classes"
   ]
  },
  {
   "cell_type": "code",
   "execution_count": 7,
   "id": "80fcb685-52ff-461e-9b13-da19cd0164e0",
   "metadata": {},
   "outputs": [],
   "source": [
    "torch.manual_seed(42)\n",
    "train_loader = ImageDataLoader(train_path, test_path).train_data_loader(train_transform)\n",
    "test_loader = ImageDataLoader(train_path, test_path).test_data_loader(test_transform)"
   ]
  },
  {
   "cell_type": "markdown",
   "id": "3e62366e-3d3f-4f94-ab05-4aa54a011f94",
   "metadata": {},
   "source": [
    "## Model"
   ]
  },
  {
   "cell_type": "code",
   "execution_count": 8,
   "id": "994efcc7-da6f-48b4-8150-cd7cd577ef42",
   "metadata": {},
   "outputs": [
    {
     "data": {
      "text/plain": [
       "ConvolutionalNewtwork(\n",
       "  (conv1): Conv2d(3, 6, kernel_size=(3, 3), stride=(1, 1))\n",
       "  (conv2): Conv2d(6, 16, kernel_size=(3, 3), stride=(1, 1))\n",
       "  (fc1): Linear(in_features=46656, out_features=120, bias=True)\n",
       "  (fc2): Linear(in_features=120, out_features=84, bias=True)\n",
       "  (fc3): Linear(in_features=84, out_features=2, bias=True)\n",
       ")"
      ]
     },
     "execution_count": 8,
     "metadata": {},
     "output_type": "execute_result"
    }
   ],
   "source": [
    "cnn_model = model.ConvolutionalNewtwork()\n",
    "cnn_model"
   ]
  },
  {
   "cell_type": "code",
   "execution_count": null,
   "id": "0463c6e2-b489-4838-9db1-3f75bf4eac87",
   "metadata": {},
   "outputs": [],
   "source": [
    "start_time = time.time()\n",
    "\n",
    "epochs = 50\n",
    "max_train_batch = 800\n",
    "max_text_batch = 300\n",
    "\n",
    "train_losses = []\n",
    "test_losses = []\n",
    "train_correct = []\n",
    "test_correct = []\n",
    "\n",
    "for i in range(epochs):\n",
    "    \n",
    "\n",
    "\n",
    "total_time = time.time()\n",
    "print(f\"Time taken took for training (in minutes):- {total_time/60}\")"
   ]
  }
 ],
 "metadata": {
  "kernelspec": {
   "display_name": "chexnet-medical-ai",
   "language": "python",
   "name": "chexnet-medical-ai"
  },
  "language_info": {
   "codemirror_mode": {
    "name": "ipython",
    "version": 3
   },
   "file_extension": ".py",
   "mimetype": "text/x-python",
   "name": "python",
   "nbconvert_exporter": "python",
   "pygments_lexer": "ipython3",
   "version": "3.10.18"
  }
 },
 "nbformat": 4,
 "nbformat_minor": 5
}
