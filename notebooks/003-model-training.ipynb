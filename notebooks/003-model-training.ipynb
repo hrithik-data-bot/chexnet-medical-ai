{
 "cells": [
  {
   "cell_type": "markdown",
   "id": "fee6fb9e-25c6-4ce9-83f1-fecf0289954d",
   "metadata": {},
   "source": [
    "## Setup"
   ]
  },
  {
   "cell_type": "code",
   "execution_count": 1,
   "id": "96829b92-c4cf-4c5b-ac3c-39be50c150ed",
   "metadata": {},
   "outputs": [],
   "source": [
    "import sys, time\n",
    "sys.path.insert(0, \"../src/\")\n",
    "from warnings import filterwarnings\n",
    "filterwarnings(\"ignore\")"
   ]
  },
  {
   "cell_type": "code",
   "execution_count": 2,
   "id": "6f90d138-1bd4-4b07-8555-9d9e18fd480b",
   "metadata": {},
   "outputs": [],
   "source": [
    "from matplotlib import pyplot as plt\n",
    "import torch\n",
    "from torch import nn as nn\n",
    "from chexnet_medical_ai.image_preprocessing import ImageTransForm, ImageDataLoader\n",
    "from chexnet_medical_ai import model"
   ]
  },
  {
   "cell_type": "markdown",
   "id": "b9e472c1-a225-45a3-abb9-37afb43968d6",
   "metadata": {},
   "source": [
    "## Train and Test Loaders "
   ]
  },
  {
   "cell_type": "code",
   "execution_count": 3,
   "id": "e50eb851-b1f4-4d2b-bd34-cd25b4605edf",
   "metadata": {},
   "outputs": [],
   "source": [
    "train_path = \"/mnt/d/archive/train/\"\n",
    "test_path = \"/mnt/d/archive/test/\""
   ]
  },
  {
   "cell_type": "code",
   "execution_count": 4,
   "id": "77cd86c8-2841-4854-ba58-284a857f7f1c",
   "metadata": {},
   "outputs": [],
   "source": [
    "train_transform = ImageTransForm().train_image_transforms()\n",
    "test_transform = ImageTransForm().test_image_transforms()"
   ]
  },
  {
   "cell_type": "code",
   "execution_count": 5,
   "id": "10c9374f-b9e6-42e1-ad7a-56ff97e983fd",
   "metadata": {},
   "outputs": [],
   "source": [
    "train_data = ImageDataLoader(train_path, test_path).train_data(train_transform)\n",
    "test_data = ImageDataLoader(train_path, test_path).test_data(test_transform)"
   ]
  },
  {
   "cell_type": "code",
   "execution_count": 6,
   "id": "79585f94-30a8-4ca6-850b-87c1003e06f3",
   "metadata": {},
   "outputs": [
    {
     "data": {
      "text/plain": [
       "(['0', '1'], ['0', '1'])"
      ]
     },
     "execution_count": 6,
     "metadata": {},
     "output_type": "execute_result"
    }
   ],
   "source": [
    "train_data.classes, test_data.classes"
   ]
  },
  {
   "cell_type": "code",
   "execution_count": 7,
   "id": "80fcb685-52ff-461e-9b13-da19cd0164e0",
   "metadata": {},
   "outputs": [],
   "source": [
    "torch.manual_seed(42)\n",
    "train_loader = ImageDataLoader(train_path, test_path).train_data_loader(train_transform)\n",
    "test_loader = ImageDataLoader(train_path, test_path).test_data_loader(test_transform)"
   ]
  },
  {
   "cell_type": "markdown",
   "id": "3e62366e-3d3f-4f94-ab05-4aa54a011f94",
   "metadata": {},
   "source": [
    "## Model"
   ]
  },
  {
   "cell_type": "code",
   "execution_count": 8,
   "id": "c7e260de-abfb-4d6d-a2b0-71c9dc40c8fc",
   "metadata": {},
   "outputs": [],
   "source": [
    "torch.manual_seed(101)\n",
    "cnn_model = model.ConvolutionalNetwork()\n",
    "criterion = nn.CrossEntropyLoss()\n",
    "optimizer = torch.optim.Adam(cnn_model.parameters(), lr=0.001)"
   ]
  },
  {
   "cell_type": "code",
   "execution_count": 9,
   "id": "0463c6e2-b489-4838-9db1-3f75bf4eac87",
   "metadata": {},
   "outputs": [
    {
     "name": "stdout",
     "output_type": "stream",
     "text": [
      "Epoch 1/10 Batch 0 Loss: 0.6849\n",
      "Epoch 1/10 Batch 200 Loss: 0.0137\n",
      "Epoch 1/10 Batch 400 Loss: 0.0324\n",
      "Epoch 1/10 Batch 600 Loss: 0.0498\n",
      "Epoch 2/10 Batch 0 Loss: 0.0055\n",
      "Epoch 2/10 Batch 200 Loss: 0.0241\n",
      "Epoch 2/10 Batch 400 Loss: 0.0034\n",
      "Epoch 2/10 Batch 600 Loss: 0.0145\n",
      "Epoch 3/10 Batch 0 Loss: 0.5701\n",
      "Epoch 3/10 Batch 200 Loss: 0.0007\n",
      "Epoch 3/10 Batch 400 Loss: 0.0072\n",
      "Epoch 3/10 Batch 600 Loss: 0.0008\n",
      "Epoch 4/10 Batch 0 Loss: 0.0027\n",
      "Epoch 4/10 Batch 200 Loss: 0.0171\n",
      "Epoch 4/10 Batch 400 Loss: 0.0017\n",
      "Epoch 4/10 Batch 600 Loss: 0.0094\n",
      "Epoch 5/10 Batch 0 Loss: 0.0091\n",
      "Epoch 5/10 Batch 200 Loss: 0.0119\n",
      "Epoch 5/10 Batch 400 Loss: 0.0080\n",
      "Epoch 5/10 Batch 600 Loss: 0.0034\n",
      "Epoch 6/10 Batch 0 Loss: 0.0159\n",
      "Epoch 6/10 Batch 200 Loss: 0.0023\n",
      "Epoch 6/10 Batch 400 Loss: 0.0209\n",
      "Epoch 6/10 Batch 600 Loss: 0.0077\n",
      "Epoch 7/10 Batch 0 Loss: 0.0124\n",
      "Epoch 7/10 Batch 200 Loss: 0.0270\n",
      "Epoch 7/10 Batch 400 Loss: 0.0099\n",
      "Epoch 7/10 Batch 600 Loss: 0.0146\n",
      "Epoch 8/10 Batch 0 Loss: 0.0066\n",
      "Epoch 8/10 Batch 200 Loss: 0.0043\n",
      "Epoch 8/10 Batch 400 Loss: 0.5038\n",
      "Epoch 8/10 Batch 600 Loss: 0.0228\n",
      "Epoch 9/10 Batch 0 Loss: 0.0241\n",
      "Epoch 9/10 Batch 200 Loss: 0.0072\n",
      "Epoch 9/10 Batch 400 Loss: 0.7613\n",
      "Epoch 9/10 Batch 600 Loss: 0.4034\n",
      "Epoch 10/10 Batch 0 Loss: 0.0132\n",
      "Epoch 10/10 Batch 200 Loss: 0.0100\n",
      "Epoch 10/10 Batch 400 Loss: 0.0033\n",
      "Epoch 10/10 Batch 600 Loss: 0.0194\n",
      "Training completed in 60.01 minutes\n"
     ]
    }
   ],
   "source": [
    "start_time = time.time()\n",
    "\n",
    "epochs = 10\n",
    "max_train_batch = 800\n",
    "max_test_batch = 300\n",
    "\n",
    "train_losses = []\n",
    "test_losses = []\n",
    "train_correct = []\n",
    "test_correct = []\n",
    "\n",
    "for i in range(epochs):\n",
    "\n",
    "    trn_corr = 0\n",
    "    tst_corr = 0\n",
    "\n",
    "\n",
    "    for b, (X_train, y_train) in enumerate(train_loader):\n",
    "\n",
    "        if b == max_train_batch:\n",
    "            break\n",
    "\n",
    "        y_pred = cnn_model(X_train)\n",
    "        loss = criterion(y_pred, y_train)\n",
    "\n",
    "        predicted = torch.max(y_pred.data, 1)[1]\n",
    "        batch_corr = (predicted == y_train).sum()\n",
    "        trn_corr += batch_corr\n",
    "\n",
    "        optimizer.zero_grad()\n",
    "        loss.backward()\n",
    "        optimizer.step()\n",
    "\n",
    "        if b % 200 == 0:\n",
    "            print(f\"Epoch {i+1}/{epochs} Batch {b} Loss: {loss.item():.4f}\")\n",
    "\n",
    "    train_losses.append(loss.item())\n",
    "    train_correct.append(trn_corr)\n",
    "\n",
    "\n",
    "    with torch.no_grad():\n",
    "        for b, (X_test, y_test) in enumerate(test_loader):\n",
    "\n",
    "            if b == max_test_batch:\n",
    "                break\n",
    "\n",
    "            y_val = cnn_model(X_test)\n",
    "            predicted = torch.max(y_val.data, 1)[1]\n",
    "            batch_corr = (predicted == y_test).sum()\n",
    "            tst_corr += batch_corr\n",
    "\n",
    "    loss = criterion(y_val, y_test)\n",
    "    test_losses.append(loss.item())\n",
    "    test_correct.append(tst_corr)\n",
    "\n",
    "total_time = time.time() - start_time\n",
    "print(f\"Training completed in {total_time/60:.2f} minutes\")\n"
   ]
  },
  {
   "cell_type": "code",
   "execution_count": null,
   "id": "3300edad-5117-4a60-9a74-e7375191a575",
   "metadata": {},
   "outputs": [],
   "source": []
  }
 ],
 "metadata": {
  "kernelspec": {
   "display_name": "chexnet-medical-ai",
   "language": "python",
   "name": "chexnet-medical-ai"
  },
  "language_info": {
   "codemirror_mode": {
    "name": "ipython",
    "version": 3
   },
   "file_extension": ".py",
   "mimetype": "text/x-python",
   "name": "python",
   "nbconvert_exporter": "python",
   "pygments_lexer": "ipython3",
   "version": "3.10.18"
  }
 },
 "nbformat": 4,
 "nbformat_minor": 5
}
