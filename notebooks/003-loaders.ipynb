{
 "cells": [
  {
   "cell_type": "markdown",
   "id": "fee6fb9e-25c6-4ce9-83f1-fecf0289954d",
   "metadata": {},
   "source": [
    "## Setup"
   ]
  },
  {
   "cell_type": "code",
   "execution_count": 1,
   "id": "96829b92-c4cf-4c5b-ac3c-39be50c150ed",
   "metadata": {},
   "outputs": [],
   "source": [
    "import sys\n",
    "sys.path.insert(0, \"../src/\")\n",
    "from warnings import filterwarnings\n",
    "filterwarnings(\"ignore\")"
   ]
  },
  {
   "cell_type": "markdown",
   "id": "b9e472c1-a225-45a3-abb9-37afb43968d6",
   "metadata": {},
   "source": [
    "## Train and Test Loaders "
   ]
  },
  {
   "cell_type": "code",
   "execution_count": 2,
   "id": "e50eb851-b1f4-4d2b-bd34-cd25b4605edf",
   "metadata": {},
   "outputs": [],
   "source": [
    "train_path = \"/mnt/d/archive/train/\"\n",
    "test_path = \"/mnt/d/archive/test/\""
   ]
  },
  {
   "cell_type": "code",
   "execution_count": 3,
   "id": "b5b4042b-8806-4e9c-b72e-ddb622e03529",
   "metadata": {},
   "outputs": [],
   "source": [
    "from chexnet_medical_ai.image_preprocessing import ImageTransForm, ImageDataLoader"
   ]
  },
  {
   "cell_type": "code",
   "execution_count": 4,
   "id": "77cd86c8-2841-4854-ba58-284a857f7f1c",
   "metadata": {},
   "outputs": [],
   "source": [
    "train_transform = ImageTransForm().train_image_transforms()\n",
    "test_transform = ImageTransForm().test_image_transforms()"
   ]
  },
  {
   "cell_type": "code",
   "execution_count": 5,
   "id": "80fcb685-52ff-461e-9b13-da19cd0164e0",
   "metadata": {},
   "outputs": [],
   "source": [
    "train_loader = ImageDataLoader(train_path, test_path).train_data_loader(train_transform)\n",
    "test_loader = ImageDataLoader(train_path, test_path).test_data_laoder(test_transform)"
   ]
  },
  {
   "cell_type": "code",
   "execution_count": null,
   "id": "4f2fb857-4c4f-4469-9538-42c7dbce28ad",
   "metadata": {},
   "outputs": [],
   "source": []
  }
 ],
 "metadata": {
  "kernelspec": {
   "display_name": "chexnet-medical-ai",
   "language": "python",
   "name": "chexnet-medical-ai"
  },
  "language_info": {
   "codemirror_mode": {
    "name": "ipython",
    "version": 3
   },
   "file_extension": ".py",
   "mimetype": "text/x-python",
   "name": "python",
   "nbconvert_exporter": "python",
   "pygments_lexer": "ipython3",
   "version": "3.10.18"
  }
 },
 "nbformat": 4,
 "nbformat_minor": 5
}
