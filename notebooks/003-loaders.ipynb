{
 "cells": [
  {
   "cell_type": "markdown",
   "id": "fee6fb9e-25c6-4ce9-83f1-fecf0289954d",
   "metadata": {},
   "source": [
    "## Setup"
   ]
  },
  {
   "cell_type": "code",
   "execution_count": 1,
   "id": "96829b92-c4cf-4c5b-ac3c-39be50c150ed",
   "metadata": {},
   "outputs": [],
   "source": [
    "import sys\n",
    "sys.path.insert(0, \"../src/\")\n",
    "from warnings import filterwarnings\n",
    "filterwarnings(\"ignore\")"
   ]
  },
  {
   "cell_type": "markdown",
   "id": "b9e472c1-a225-45a3-abb9-37afb43968d6",
   "metadata": {},
   "source": [
    "## Train and Test Loaders "
   ]
  },
  {
   "cell_type": "code",
   "execution_count": 2,
   "id": "b5b4042b-8806-4e9c-b72e-ddb622e03529",
   "metadata": {},
   "outputs": [],
   "source": [
    "from chexnet_medical_ai import image_preprocessing"
   ]
  },
  {
   "cell_type": "code",
   "execution_count": 3,
   "id": "77cd86c8-2841-4854-ba58-284a857f7f1c",
   "metadata": {},
   "outputs": [],
   "source": [
    "train_transform = image_preprocessing.ImageTransForm().train_image_transforms()\n",
    "test_transform = image_preprocessing.ImageTransForm().test_image_transforms()"
   ]
  },
  {
   "cell_type": "code",
   "execution_count": null,
   "id": "80fcb685-52ff-461e-9b13-da19cd0164e0",
   "metadata": {},
   "outputs": [],
   "source": []
  }
 ],
 "metadata": {
  "kernelspec": {
   "display_name": "chexnet-medical-ai",
   "language": "python",
   "name": "chexnet-medical-ai"
  },
  "language_info": {
   "codemirror_mode": {
    "name": "ipython",
    "version": 3
   },
   "file_extension": ".py",
   "mimetype": "text/x-python",
   "name": "python",
   "nbconvert_exporter": "python",
   "pygments_lexer": "ipython3",
   "version": "3.10.18"
  }
 },
 "nbformat": 4,
 "nbformat_minor": 5
}
