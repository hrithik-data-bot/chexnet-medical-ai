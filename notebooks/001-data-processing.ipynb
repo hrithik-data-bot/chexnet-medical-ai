{
 "cells": [
  {
   "cell_type": "markdown",
   "id": "f55d530d-bed4-43cf-a962-5dc13a4a9647",
   "metadata": {},
   "source": [
    "## Setup"
   ]
  },
  {
   "cell_type": "code",
   "execution_count": null,
   "id": "6d66d4ec-d9c0-460b-a6fb-45bf386b075b",
   "metadata": {},
   "outputs": [],
   "source": [
    "import pandas as pd\n",
    "from PIL import Image\n",
    "from tqdm import tqdm"
   ]
  },
  {
   "cell_type": "markdown",
   "id": "af3811d9-2d85-444d-aa0d-53a3ed627281",
   "metadata": {},
   "source": [
    "## Example Image"
   ]
  },
  {
   "cell_type": "code",
   "execution_count": null,
   "id": "b566d096-9813-4d88-ae1d-41bce539e40b",
   "metadata": {},
   "outputs": [],
   "source": [
    "root_path = \"/mnt/d/archive\"\n",
    "image = Image.open(root_path+\"/\"+\"images-224/images-224/\"+\"00000002_000.png\")"
   ]
  },
  {
   "cell_type": "code",
   "execution_count": null,
   "id": "c860df87-7403-4713-a959-b61abaff0158",
   "metadata": {},
   "outputs": [],
   "source": [
    "image"
   ]
  },
  {
   "cell_type": "markdown",
   "id": "012e3377-363a-49a9-b47d-0b6c2fc90e54",
   "metadata": {},
   "source": [
    "## Labels"
   ]
  },
  {
   "cell_type": "code",
   "execution_count": null,
   "id": "259af4c8-32bc-4e5b-ac7f-86e8545661db",
   "metadata": {},
   "outputs": [],
   "source": [
    "labels = pd.read_csv(f\"{root_path}/Data_Entry_2017.csv\")[['Image Index', 'Finding Labels']]\n",
    "labels.head()"
   ]
  },
  {
   "cell_type": "markdown",
   "id": "122cd516-cc38-4095-b84f-d8531a852776",
   "metadata": {},
   "source": [
    "### Pneumonia or Not"
   ]
  },
  {
   "cell_type": "code",
   "execution_count": null,
   "id": "71b8394f-24d2-499f-b6ba-b8a53aebd533",
   "metadata": {},
   "outputs": [],
   "source": [
    "labels['Outcome'] = labels['Finding Labels'].apply(lambda label: 1 if \"Pneumonia\" in label else 0)"
   ]
  },
  {
   "cell_type": "code",
   "execution_count": null,
   "id": "18f01f22-0744-470c-9f4b-773d63f5ddf6",
   "metadata": {},
   "outputs": [],
   "source": [
    "labels.head()"
   ]
  },
  {
   "cell_type": "markdown",
   "id": "b941eaaa-07a9-4b81-880a-4c137cec5a50",
   "metadata": {},
   "source": [
    "## Train Test Images"
   ]
  },
  {
   "cell_type": "markdown",
   "id": "623961f5-c064-4e25-bece-d89efd9091b6",
   "metadata": {},
   "source": [
    "### Train"
   ]
  },
  {
   "cell_type": "code",
   "execution_count": null,
   "id": "585de245-0eee-4ad0-8818-a3b35529ceae",
   "metadata": {},
   "outputs": [],
   "source": [
    "with open(f'{root_path}/train_val_list_NIH.txt') as file:\n",
    "    train_content = file.readlines()"
   ]
  },
  {
   "cell_type": "code",
   "execution_count": null,
   "id": "f512a91f-6dd6-4fcb-acf7-b35a7cb02378",
   "metadata": {},
   "outputs": [],
   "source": [
    "train_lables = {}\n",
    "\n",
    "for img in tqdm(train_content):\n",
    "    if img.strip() not in train_lables:\n",
    "        train_lables[img.strip()] = labels[labels['Image Index']==img.strip()]['Outcome']"
   ]
  },
  {
   "cell_type": "code",
   "execution_count": null,
   "id": "c3c19df2-c93c-4ecf-a24d-d94d6cfe887f",
   "metadata": {},
   "outputs": [],
   "source": []
  }
 ],
 "metadata": {
  "kernelspec": {
   "display_name": "chexnet-medical-ai",
   "language": "python",
   "name": "chexnet-medical-ai"
  },
  "language_info": {
   "codemirror_mode": {
    "name": "ipython",
    "version": 3
   },
   "file_extension": ".py",
   "mimetype": "text/x-python",
   "name": "python",
   "nbconvert_exporter": "python",
   "pygments_lexer": "ipython3",
   "version": "3.10.18"
  }
 },
 "nbformat": 4,
 "nbformat_minor": 5
}
